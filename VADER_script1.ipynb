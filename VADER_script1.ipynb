{
 "cells": [
  {
   "cell_type": "code",
   "execution_count": 10,
   "id": "dda43c54",
   "metadata": {
    "scrolled": true
   },
   "outputs": [],
   "source": [
    "import numpy as np\n",
    "import pandas as pd\n",
    "from vaderSentiment.vaderSentiment import SentimentIntensityAnalyzerimport matplotlib.pyplot as plt\n",
    "import matplotlib.pyplot as plt\n",
    "sid = SentimentIntensityAnalyzer()"
   ]
  },
  {
   "cell_type": "code",
   "execution_count": 123,
   "id": "07f1d9d6",
   "metadata": {},
   "outputs": [],
   "source": [
    "import seaborn as sns"
   ]
  },
  {
   "cell_type": "code",
   "execution_count": 17,
   "id": "7e20500d",
   "metadata": {
    "scrolled": true
   },
   "outputs": [
    {
     "data": {
      "text/html": [
       "<div>\n",
       "<style scoped>\n",
       "    .dataframe tbody tr th:only-of-type {\n",
       "        vertical-align: middle;\n",
       "    }\n",
       "\n",
       "    .dataframe tbody tr th {\n",
       "        vertical-align: top;\n",
       "    }\n",
       "\n",
       "    .dataframe thead th {\n",
       "        text-align: right;\n",
       "    }\n",
       "</style>\n",
       "<table border=\"1\" class=\"dataframe\">\n",
       "  <thead>\n",
       "    <tr style=\"text-align: right;\">\n",
       "      <th></th>\n",
       "      <th>review</th>\n",
       "      <th>sentiment</th>\n",
       "    </tr>\n",
       "  </thead>\n",
       "  <tbody>\n",
       "    <tr>\n",
       "      <th>41850</th>\n",
       "      <td>David Lynch usually makes films that resemble ...</td>\n",
       "      <td>positive</td>\n",
       "    </tr>\n",
       "    <tr>\n",
       "      <th>45179</th>\n",
       "      <td>Obviously influenced by the success of Pal's \"...</td>\n",
       "      <td>negative</td>\n",
       "    </tr>\n",
       "    <tr>\n",
       "      <th>49671</th>\n",
       "      <td>The history of the FBI, as told from the point...</td>\n",
       "      <td>positive</td>\n",
       "    </tr>\n",
       "    <tr>\n",
       "      <th>1743</th>\n",
       "      <td>\"Hero and the Terror\" is a fairly dull thrille...</td>\n",
       "      <td>negative</td>\n",
       "    </tr>\n",
       "    <tr>\n",
       "      <th>35124</th>\n",
       "      <td>It is one of the best of Stephen Chow. I give ...</td>\n",
       "      <td>positive</td>\n",
       "    </tr>\n",
       "    <tr>\n",
       "      <th>46281</th>\n",
       "      <td>This movie is more Lupin then most, especially...</td>\n",
       "      <td>positive</td>\n",
       "    </tr>\n",
       "    <tr>\n",
       "      <th>5092</th>\n",
       "      <td>I know that to include everything in the book,...</td>\n",
       "      <td>positive</td>\n",
       "    </tr>\n",
       "    <tr>\n",
       "      <th>25435</th>\n",
       "      <td>First of all I thought it was naughty of them ...</td>\n",
       "      <td>negative</td>\n",
       "    </tr>\n",
       "    <tr>\n",
       "      <th>26838</th>\n",
       "      <td>and it doesn't help rohmer's case that a few y...</td>\n",
       "      <td>negative</td>\n",
       "    </tr>\n",
       "    <tr>\n",
       "      <th>11070</th>\n",
       "      <td>if you watch this at home on DVD or Bluray! be...</td>\n",
       "      <td>positive</td>\n",
       "    </tr>\n",
       "  </tbody>\n",
       "</table>\n",
       "</div>"
      ],
      "text/plain": [
       "                                                  review sentiment\n",
       "41850  David Lynch usually makes films that resemble ...  positive\n",
       "45179  Obviously influenced by the success of Pal's \"...  negative\n",
       "49671  The history of the FBI, as told from the point...  positive\n",
       "1743   \"Hero and the Terror\" is a fairly dull thrille...  negative\n",
       "35124  It is one of the best of Stephen Chow. I give ...  positive\n",
       "46281  This movie is more Lupin then most, especially...  positive\n",
       "5092   I know that to include everything in the book,...  positive\n",
       "25435  First of all I thought it was naughty of them ...  negative\n",
       "26838  and it doesn't help rohmer's case that a few y...  negative\n",
       "11070  if you watch this at home on DVD or Bluray! be...  positive"
      ]
     },
     "execution_count": 17,
     "metadata": {},
     "output_type": "execute_result"
    }
   ],
   "source": [
    "df = pd.read_csv('IMDB_Dataset.csv')\n",
    "df.sample(10)"
   ]
  },
  {
   "cell_type": "code",
   "execution_count": 130,
   "id": "17e0e425",
   "metadata": {},
   "outputs": [],
   "source": [
    "d = df.sentiment.value_counts().to_dict()"
   ]
  },
  {
   "cell_type": "code",
   "execution_count": 146,
   "id": "2eea2f47",
   "metadata": {},
   "outputs": [
    {
     "data": {
      "image/png": "[encoded data removed]",
      "text/plain": [
       "<Figure size 640x480 with 1 Axes>"
      ]
     },
     "metadata": {},
     "output_type": "display_data"
    }
   ],
   "source": [
    "plt.bar('negative', d['negative'], width=0.5, color='red', )\n",
    "plt.bar('positive', d['positive'], width=0.5, color='green')\n",
    "plt.show()"
   ]
  },
  {
   "cell_type": "code",
   "execution_count": 19,
   "id": "3bebe1d3",
   "metadata": {
    "scrolled": false
   },
   "outputs": [
    {
     "data": {
      "text/html": [
       "<div>\n",
       "<style scoped>\n",
       "    .dataframe tbody tr th:only-of-type {\n",
       "        vertical-align: middle;\n",
       "    }\n",
       "\n",
       "    .dataframe tbody tr th {\n",
       "        vertical-align: top;\n",
       "    }\n",
       "\n",
       "    .dataframe thead th {\n",
       "        text-align: right;\n",
       "    }\n",
       "</style>\n",
       "<table border=\"1\" class=\"dataframe\">\n",
       "  <thead>\n",
       "    <tr style=\"text-align: right;\">\n",
       "      <th></th>\n",
       "      <th>review</th>\n",
       "      <th>sentiment</th>\n",
       "      <th>scores</th>\n",
       "    </tr>\n",
       "  </thead>\n",
       "  <tbody>\n",
       "    <tr>\n",
       "      <th>0</th>\n",
       "      <td>One of the other reviewers has mentioned that ...</td>\n",
       "      <td>positive</td>\n",
       "      <td>{'neg': 0.179, 'neu': 0.756, 'pos': 0.064, 'co...</td>\n",
       "    </tr>\n",
       "    <tr>\n",
       "      <th>1</th>\n",
       "      <td>A wonderful little production. &lt;br /&gt;&lt;br /&gt;The...</td>\n",
       "      <td>positive</td>\n",
       "      <td>{'neg': 0.052, 'neu': 0.773, 'pos': 0.176, 'co...</td>\n",
       "    </tr>\n",
       "    <tr>\n",
       "      <th>2</th>\n",
       "      <td>I thought this was a wonderful way to spend ti...</td>\n",
       "      <td>positive</td>\n",
       "      <td>{'neg': 0.114, 'neu': 0.688, 'pos': 0.198, 'co...</td>\n",
       "    </tr>\n",
       "    <tr>\n",
       "      <th>3</th>\n",
       "      <td>Basically there's a family where a little boy ...</td>\n",
       "      <td>negative</td>\n",
       "      <td>{'neg': 0.125, 'neu': 0.816, 'pos': 0.059, 'co...</td>\n",
       "    </tr>\n",
       "    <tr>\n",
       "      <th>4</th>\n",
       "      <td>Petter Mattei's \"Love in the Time of Money\" is...</td>\n",
       "      <td>positive</td>\n",
       "      <td>{'neg': 0.05, 'neu': 0.806, 'pos': 0.144, 'com...</td>\n",
       "    </tr>\n",
       "  </tbody>\n",
       "</table>\n",
       "</div>"
      ],
      "text/plain": [
       "                                              review sentiment  \\\n",
       "0  One of the other reviewers has mentioned that ...  positive   \n",
       "1  A wonderful little production. <br /><br />The...  positive   \n",
       "2  I thought this was a wonderful way to spend ti...  positive   \n",
       "3  Basically there's a family where a little boy ...  negative   \n",
       "4  Petter Mattei's \"Love in the Time of Money\" is...  positive   \n",
       "\n",
       "                                              scores  \n",
       "0  {'neg': 0.179, 'neu': 0.756, 'pos': 0.064, 'co...  \n",
       "1  {'neg': 0.052, 'neu': 0.773, 'pos': 0.176, 'co...  \n",
       "2  {'neg': 0.114, 'neu': 0.688, 'pos': 0.198, 'co...  \n",
       "3  {'neg': 0.125, 'neu': 0.816, 'pos': 0.059, 'co...  \n",
       "4  {'neg': 0.05, 'neu': 0.806, 'pos': 0.144, 'com...  "
      ]
     },
     "execution_count": 19,
     "metadata": {},
     "output_type": "execute_result"
    }
   ],
   "source": [
    "df['scores'] = df['review'].apply(lambda review: sid.polarity_scores(review))\n",
    "df.head()"
   ]
  },
  {
   "cell_type": "code",
   "execution_count": 20,
   "id": "db562749",
   "metadata": {},
   "outputs": [
    {
     "data": {
      "text/html": [
       "<div>\n",
       "<style scoped>\n",
       "    .dataframe tbody tr th:only-of-type {\n",
       "        vertical-align: middle;\n",
       "    }\n",
       "\n",
       "    .dataframe tbody tr th {\n",
       "        vertical-align: top;\n",
       "    }\n",
       "\n",
       "    .dataframe thead th {\n",
       "        text-align: right;\n",
       "    }\n",
       "</style>\n",
       "<table border=\"1\" class=\"dataframe\">\n",
       "  <thead>\n",
       "    <tr style=\"text-align: right;\">\n",
       "      <th></th>\n",
       "      <th>review</th>\n",
       "      <th>sentiment</th>\n",
       "      <th>scores</th>\n",
       "      <th>compound</th>\n",
       "    </tr>\n",
       "  </thead>\n",
       "  <tbody>\n",
       "    <tr>\n",
       "      <th>0</th>\n",
       "      <td>One of the other reviewers has mentioned that ...</td>\n",
       "      <td>positive</td>\n",
       "      <td>{'neg': 0.179, 'neu': 0.756, 'pos': 0.064, 'co...</td>\n",
       "      <td>-0.9916</td>\n",
       "    </tr>\n",
       "    <tr>\n",
       "      <th>1</th>\n",
       "      <td>A wonderful little production. &lt;br /&gt;&lt;br /&gt;The...</td>\n",
       "      <td>positive</td>\n",
       "      <td>{'neg': 0.052, 'neu': 0.773, 'pos': 0.176, 'co...</td>\n",
       "      <td>0.9670</td>\n",
       "    </tr>\n",
       "    <tr>\n",
       "      <th>2</th>\n",
       "      <td>I thought this was a wonderful way to spend ti...</td>\n",
       "      <td>positive</td>\n",
       "      <td>{'neg': 0.114, 'neu': 0.688, 'pos': 0.198, 'co...</td>\n",
       "      <td>0.9519</td>\n",
       "    </tr>\n",
       "    <tr>\n",
       "      <th>3</th>\n",
       "      <td>Basically there's a family where a little boy ...</td>\n",
       "      <td>negative</td>\n",
       "      <td>{'neg': 0.125, 'neu': 0.816, 'pos': 0.059, 'co...</td>\n",
       "      <td>-0.9213</td>\n",
       "    </tr>\n",
       "    <tr>\n",
       "      <th>4</th>\n",
       "      <td>Petter Mattei's \"Love in the Time of Money\" is...</td>\n",
       "      <td>positive</td>\n",
       "      <td>{'neg': 0.05, 'neu': 0.806, 'pos': 0.144, 'com...</td>\n",
       "      <td>0.9744</td>\n",
       "    </tr>\n",
       "  </tbody>\n",
       "</table>\n",
       "</div>"
      ],
      "text/plain": [
       "                                              review sentiment  \\\n",
       "0  One of the other reviewers has mentioned that ...  positive   \n",
       "1  A wonderful little production. <br /><br />The...  positive   \n",
       "2  I thought this was a wonderful way to spend ti...  positive   \n",
       "3  Basically there's a family where a little boy ...  negative   \n",
       "4  Petter Mattei's \"Love in the Time of Money\" is...  positive   \n",
       "\n",
       "                                              scores  compound  \n",
       "0  {'neg': 0.179, 'neu': 0.756, 'pos': 0.064, 'co...   -0.9916  \n",
       "1  {'neg': 0.052, 'neu': 0.773, 'pos': 0.176, 'co...    0.9670  \n",
       "2  {'neg': 0.114, 'neu': 0.688, 'pos': 0.198, 'co...    0.9519  \n",
       "3  {'neg': 0.125, 'neu': 0.816, 'pos': 0.059, 'co...   -0.9213  \n",
       "4  {'neg': 0.05, 'neu': 0.806, 'pos': 0.144, 'com...    0.9744  "
      ]
     },
     "execution_count": 20,
     "metadata": {},
     "output_type": "execute_result"
    }
   ],
   "source": [
    "df['compound']  = df['scores'].apply(lambda score_dict: score_dict['compound'])\n",
    "\n",
    "df.head()"
   ]
  },
  {
   "cell_type": "code",
   "execution_count": 67,
   "id": "8348a814",
   "metadata": {
    "scrolled": true
   },
   "outputs": [
    {
     "data": {
      "text/html": [
       "<div>\n",
       "<style scoped>\n",
       "    .dataframe tbody tr th:only-of-type {\n",
       "        vertical-align: middle;\n",
       "    }\n",
       "\n",
       "    .dataframe tbody tr th {\n",
       "        vertical-align: top;\n",
       "    }\n",
       "\n",
       "    .dataframe thead th {\n",
       "        text-align: right;\n",
       "    }\n",
       "</style>\n",
       "<table border=\"1\" class=\"dataframe\">\n",
       "  <thead>\n",
       "    <tr style=\"text-align: right;\">\n",
       "      <th></th>\n",
       "      <th>review</th>\n",
       "      <th>sentiment</th>\n",
       "      <th>scores</th>\n",
       "      <th>compound</th>\n",
       "      <th>comp_score</th>\n",
       "      <th>Conf_Matrix</th>\n",
       "    </tr>\n",
       "  </thead>\n",
       "  <tbody>\n",
       "    <tr>\n",
       "      <th>0</th>\n",
       "      <td>One of the other reviewers has mentioned that ...</td>\n",
       "      <td>positive</td>\n",
       "      <td>{'neg': 0.179, 'neu': 0.756, 'pos': 0.064, 'co...</td>\n",
       "      <td>-0.9916</td>\n",
       "      <td>negative</td>\n",
       "      <td>FN</td>\n",
       "    </tr>\n",
       "    <tr>\n",
       "      <th>1</th>\n",
       "      <td>A wonderful little production. &lt;br /&gt;&lt;br /&gt;The...</td>\n",
       "      <td>positive</td>\n",
       "      <td>{'neg': 0.052, 'neu': 0.773, 'pos': 0.176, 'co...</td>\n",
       "      <td>0.9670</td>\n",
       "      <td>positive</td>\n",
       "      <td>TP</td>\n",
       "    </tr>\n",
       "    <tr>\n",
       "      <th>2</th>\n",
       "      <td>I thought this was a wonderful way to spend ti...</td>\n",
       "      <td>positive</td>\n",
       "      <td>{'neg': 0.114, 'neu': 0.688, 'pos': 0.198, 'co...</td>\n",
       "      <td>0.9519</td>\n",
       "      <td>positive</td>\n",
       "      <td>TP</td>\n",
       "    </tr>\n",
       "    <tr>\n",
       "      <th>3</th>\n",
       "      <td>Basically there's a family where a little boy ...</td>\n",
       "      <td>negative</td>\n",
       "      <td>{'neg': 0.125, 'neu': 0.816, 'pos': 0.059, 'co...</td>\n",
       "      <td>-0.9213</td>\n",
       "      <td>negative</td>\n",
       "      <td>TN</td>\n",
       "    </tr>\n",
       "    <tr>\n",
       "      <th>4</th>\n",
       "      <td>Petter Mattei's \"Love in the Time of Money\" is...</td>\n",
       "      <td>positive</td>\n",
       "      <td>{'neg': 0.05, 'neu': 0.806, 'pos': 0.144, 'com...</td>\n",
       "      <td>0.9744</td>\n",
       "      <td>positive</td>\n",
       "      <td>TP</td>\n",
       "    </tr>\n",
       "  </tbody>\n",
       "</table>\n",
       "</div>"
      ],
      "text/plain": [
       "                                              review sentiment  \\\n",
       "0  One of the other reviewers has mentioned that ...  positive   \n",
       "1  A wonderful little production. <br /><br />The...  positive   \n",
       "2  I thought this was a wonderful way to spend ti...  positive   \n",
       "3  Basically there's a family where a little boy ...  negative   \n",
       "4  Petter Mattei's \"Love in the Time of Money\" is...  positive   \n",
       "\n",
       "                                              scores  compound comp_score  \\\n",
       "0  {'neg': 0.179, 'neu': 0.756, 'pos': 0.064, 'co...   -0.9916   negative   \n",
       "1  {'neg': 0.052, 'neu': 0.773, 'pos': 0.176, 'co...    0.9670   positive   \n",
       "2  {'neg': 0.114, 'neu': 0.688, 'pos': 0.198, 'co...    0.9519   positive   \n",
       "3  {'neg': 0.125, 'neu': 0.816, 'pos': 0.059, 'co...   -0.9213   negative   \n",
       "4  {'neg': 0.05, 'neu': 0.806, 'pos': 0.144, 'com...    0.9744   positive   \n",
       "\n",
       "  Conf_Matrix  \n",
       "0          FN  \n",
       "1          TP  \n",
       "2          TP  \n",
       "3          TN  \n",
       "4          TP  "
      ]
     },
     "execution_count": 67,
     "metadata": {},
     "output_type": "execute_result"
    }
   ],
   "source": [
    "df['comp_score'] = df['compound'].apply(lambda c: 'positive' if c >=0.809 else 'negative')\n",
    "\n",
    "df.head()"
   ]
  },
  {
   "cell_type": "code",
   "execution_count": 147,
   "id": "9d2941fd",
   "metadata": {
    "scrolled": false
   },
   "outputs": [
    {
     "data": {
      "text/html": [
       "<div>\n",
       "<style scoped>\n",
       "    .dataframe tbody tr th:only-of-type {\n",
       "        vertical-align: middle;\n",
       "    }\n",
       "\n",
       "    .dataframe tbody tr th {\n",
       "        vertical-align: top;\n",
       "    }\n",
       "\n",
       "    .dataframe thead th {\n",
       "        text-align: right;\n",
       "    }\n",
       "</style>\n",
       "<table border=\"1\" class=\"dataframe\">\n",
       "  <thead>\n",
       "    <tr style=\"text-align: right;\">\n",
       "      <th></th>\n",
       "      <th>review</th>\n",
       "      <th>sentiment</th>\n",
       "      <th>scores</th>\n",
       "      <th>compound</th>\n",
       "      <th>comp_score</th>\n",
       "      <th>Conf_Matrix</th>\n",
       "    </tr>\n",
       "  </thead>\n",
       "  <tbody>\n",
       "    <tr>\n",
       "      <th>0</th>\n",
       "      <td>One of the other reviewers has mentioned that ...</td>\n",
       "      <td>positive</td>\n",
       "      <td>{'neg': 0.179, 'neu': 0.756, 'pos': 0.064, 'co...</td>\n",
       "      <td>-0.9916</td>\n",
       "      <td>negative</td>\n",
       "      <td>FN</td>\n",
       "    </tr>\n",
       "    <tr>\n",
       "      <th>1</th>\n",
       "      <td>A wonderful little production. &lt;br /&gt;&lt;br /&gt;The...</td>\n",
       "      <td>positive</td>\n",
       "      <td>{'neg': 0.052, 'neu': 0.773, 'pos': 0.176, 'co...</td>\n",
       "      <td>0.9670</td>\n",
       "      <td>positive</td>\n",
       "      <td>FN</td>\n",
       "    </tr>\n",
       "    <tr>\n",
       "      <th>2</th>\n",
       "      <td>I thought this was a wonderful way to spend ti...</td>\n",
       "      <td>positive</td>\n",
       "      <td>{'neg': 0.114, 'neu': 0.688, 'pos': 0.198, 'co...</td>\n",
       "      <td>0.9519</td>\n",
       "      <td>positive</td>\n",
       "      <td>FN</td>\n",
       "    </tr>\n",
       "    <tr>\n",
       "      <th>3</th>\n",
       "      <td>Basically there's a family where a little boy ...</td>\n",
       "      <td>negative</td>\n",
       "      <td>{'neg': 0.125, 'neu': 0.816, 'pos': 0.059, 'co...</td>\n",
       "      <td>-0.9213</td>\n",
       "      <td>negative</td>\n",
       "      <td>TN</td>\n",
       "    </tr>\n",
       "    <tr>\n",
       "      <th>4</th>\n",
       "      <td>Petter Mattei's \"Love in the Time of Money\" is...</td>\n",
       "      <td>positive</td>\n",
       "      <td>{'neg': 0.05, 'neu': 0.806, 'pos': 0.144, 'com...</td>\n",
       "      <td>0.9744</td>\n",
       "      <td>positive</td>\n",
       "      <td>FN</td>\n",
       "    </tr>\n",
       "  </tbody>\n",
       "</table>\n",
       "</div>"
      ],
      "text/plain": [
       "                                              review sentiment  \\\n",
       "0  One of the other reviewers has mentioned that ...  positive   \n",
       "1  A wonderful little production. <br /><br />The...  positive   \n",
       "2  I thought this was a wonderful way to spend ti...  positive   \n",
       "3  Basically there's a family where a little boy ...  negative   \n",
       "4  Petter Mattei's \"Love in the Time of Money\" is...  positive   \n",
       "\n",
       "                                              scores  compound comp_score  \\\n",
       "0  {'neg': 0.179, 'neu': 0.756, 'pos': 0.064, 'co...   -0.9916   negative   \n",
       "1  {'neg': 0.052, 'neu': 0.773, 'pos': 0.176, 'co...    0.9670   positive   \n",
       "2  {'neg': 0.114, 'neu': 0.688, 'pos': 0.198, 'co...    0.9519   positive   \n",
       "3  {'neg': 0.125, 'neu': 0.816, 'pos': 0.059, 'co...   -0.9213   negative   \n",
       "4  {'neg': 0.05, 'neu': 0.806, 'pos': 0.144, 'com...    0.9744   positive   \n",
       "\n",
       "  Conf_Matrix  \n",
       "0          FN  \n",
       "1          FN  \n",
       "2          FN  \n",
       "3          TN  \n",
       "4          FN  "
      ]
     },
     "execution_count": 147,
     "metadata": {},
     "output_type": "execute_result"
    }
   ],
   "source": [
    "df['comp_score'] = df['compound'].apply(lambda c: 'positive' if c >=0 else 'negative')\n",
    "\n",
    "df.head()"
   ]
  },
  {
   "cell_type": "code",
   "execution_count": 148,
   "id": "fa6ab212",
   "metadata": {
    "scrolled": true
   },
   "outputs": [],
   "source": [
    "def conf_matrix(x):\n",
    "    if x['sentiment'] == 'positive' and x['comp_score'] == 'positive':\n",
    "        return 'TP'\n",
    "    elif x['sentiment'] == 'positive' and x['comp_score'] == 'negative':\n",
    "        return 'FN'\n",
    "    elif x['sentiment'] == 'negative' and x['comp_score'] == 'positive':\n",
    "        return 'FP'\n",
    "    elif x['sentiment'] == 'negative' and x['comp_score'] == 'negative':\n",
    "        return 'TN'\n",
    "    else:\n",
    "        return 0\n",
    "\n",
    "df['Conf_Matrix'] = df.apply(lambda x: conf_matrix(x), axis=1)"
   ]
  },
  {
   "cell_type": "code",
   "execution_count": 149,
   "id": "688f0e03",
   "metadata": {},
   "outputs": [
    {
     "name": "stdout",
     "output_type": "stream",
     "text": [
      "{'TP': 21532, 'TN': 13253, 'FP': 11747, 'FN': 3468}\n",
      "Accuracy:  69.57 % \n",
      "Precision:  64.7 % \n",
      "Recall:  86.13 % \n",
      "F1 Score:  73.89 %\n"
     ]
    }
   ],
   "source": [
    "conf_vals = df.Conf_Matrix.value_counts().to_dict()\n",
    "print(conf_vals)\n",
    "\n",
    "accuracy = (conf_vals['TP'] + conf_vals['TN']) / (conf_vals['TP'] + conf_vals['TN'] + conf_vals['FP'] + conf_vals['FN'])\n",
    "precision = conf_vals['TP'] / (conf_vals['TP'] + conf_vals['FP'])\n",
    "recall = conf_vals['TP'] / (conf_vals['TP'] + conf_vals['FN'])\n",
    "f1_score = 2*precision*recall / (precision + recall)\n",
    "print('Accuracy: ', round(100 * accuracy, 2),'%',\n",
    "      '\\nPrecision: ', round(100 * precision, 2),'%',\n",
    "      '\\nRecall: ', round(100 * recall, 2),'%',\n",
    "      '\\nF1 Score: ', round(100 * f1_score, 2),'%')"
   ]
  },
  {
   "cell_type": "code",
   "execution_count": 150,
   "id": "aac95119",
   "metadata": {},
   "outputs": [],
   "source": [
    "def to_int(x):\n",
    "    if x[1] == 'positive':\n",
    "        return 1\n",
    "    return 0"
   ]
  },
  {
   "cell_type": "code",
   "execution_count": 151,
   "id": "c3642382",
   "metadata": {},
   "outputs": [],
   "source": [
    "x = pd.DataFrame()\n",
    "x['actual'] = df.apply(lambda x: to_int(x), axis=1)\n",
    "x['predicted'] = df.apply(lambda x: to_int(x), axis=1)"
   ]
  },
  {
   "cell_type": "code",
   "execution_count": 153,
   "id": "ff683cfc",
   "metadata": {},
   "outputs": [],
   "source": [
    "cm = [[conf_vals['TN'], conf_vals['FP']],[conf_vals['FN'], conf_vals['TP']]]"
   ]
  },
  {
   "cell_type": "code",
   "execution_count": 154,
   "id": "3f5e0ea6",
   "metadata": {
    "scrolled": false
   },
   "outputs": [
    {
     "data": {
      "image/png": "[encoded data removed]",
      "text/plain": [
       "<Figure size 640x480 with 1 Axes>"
      ]
     },
     "metadata": {},
     "output_type": "display_data"
    }
   ],
   "source": [
    "plt.clf()\n",
    "plt.imshow(cm, interpolation='nearest', cmap=plt.cm.RdYlGn, alpha=0.75)\n",
    "classNames = ['Negative','Positive']\n",
    "plt.title('Confusion Matrix')\n",
    "plt.ylabel('True label')\n",
    "plt.xlabel('Predicted label')\n",
    "tick_marks = np.arange(len(classNames))\n",
    "plt.xticks(tick_marks, classNames, rotation=45)\n",
    "plt.yticks(tick_marks, classNames)\n",
    "s = [['TN','FP'], ['FN', 'TP']]\n",
    "for i in range(2):\n",
    "    for j in range(2):\n",
    "        plt.text(j,i, str(s[i][j])+\" = \"+str(cm[i][j]))\n",
    "plt.show()"
   ]
  },
  {
   "cell_type": "code",
   "execution_count": null,
   "id": "5f9aaf95",
   "metadata": {},
   "outputs": [],
   "source": [
    "# Write a review as one continuous string (multiple sentences are ok)\n",
    "review = 'Is the movie good?'\n",
    "# Obtain the sid scores for your review\n",
    "# OUTPUT-\n",
    "print(sid.polarity_scores(review))\n",
    "# {'neg': 0.0, 'neu': 0.513, 'pos': 0.487, 'compound': 0.5859}\n",
    "review='The movie is good!'\n",
    "# Obtain the sid scores for your review\n",
    "print(sid.polarity_scores(review))\n",
    "# OUTPUT-\n",
    "# {'neg': 0.539, 'neu': 0.461, 'pos': 0.0, 'compound': -0.8849}"
   ]
  },
  {
   "cell_type": "code",
   "execution_count": null,
   "id": "176510bc",
   "metadata": {},
   "outputs": [],
   "source": [
    "import re\n",
    "# as per recommendation from @freylis, compile once only\n",
    "CLEANR = re.compile('<.*?>') \n",
    "\n",
    "def cleanhtml(raw_html):\n",
    "    cleantext = raw_html.lower()\n",
    "    cleantext = re.sub(CLEANR, '', raw_html)\n",
    "    return cleantext\n",
    "\n",
    "def occStr(ser):\n",
    "    if '!!!!!' in ser:\n",
    "        ser = str(ser).replace('!!!!!', '!!!')\n",
    "    if '!!!!' in ser:\n",
    "        ser = str(ser).replace('!!!!', '!!!')\n",
    "    return ser\n",
    "\n",
    "for i in df.itertuples():\n",
    "    if '!!!!' in i[1] or '!!!!!' in i[1]:\n",
    "        str_x = i[1]\n",
    "        print(str_x)\n",
    "        print(sid.polarity_scores(str_x))\n",
    "\n",
    "        print('***')\n",
    "        str_x = occStr(str_x)\n",
    "        print(cleanhtml(str_x))\n",
    "        print(sid.polarity_scores(cleanhtml(str_x)))\n",
    "        print(\"*\"*20)"
   ]
  },
  {
   "cell_type": "code",
   "execution_count": null,
   "id": "aaa55f06",
   "metadata": {
    "scrolled": true
   },
   "outputs": [],
   "source": [
    "import nltk\n",
    "from nltk.tokenize import word_tokenize, RegexpTokenizer\n",
    "from nltk.sentiment.vader import SentimentIntensityAnalyzer\n",
    "sentence = input('Enter your review:')\n",
    "tokenized_sentence = nltk.word_tokenize(sentence)\n",
    "\n",
    "sid = SentimentIntensityAnalyzer()\n",
    "pos_word_list=[]\n",
    "neu_word_list=[]\n",
    "neg_word_list=[]\n",
    "\n",
    "for word in tokenized_sentence:\n",
    "    if (sid.polarity_scores(word)['compound']) >= 0.1:\n",
    "        pos_word_list.append(word)\n",
    "    elif (sid.polarity_scores(word)['compound']) <= -0.1:\n",
    "        neg_word_list.append(word)\n",
    "    else:\n",
    "        neu_word_list.append(word)                \n",
    "\n",
    "print('Positive:',pos_word_list)        \n",
    "print('Neutral:',neu_word_list)    \n",
    "print('Negative:',neg_word_list) \n",
    "score = sid.polarity_scores(sentence)\n",
    "print('\\nScores:', score)"
   ]
  },
  {
   "cell_type": "markdown",
   "id": "91269953",
   "metadata": {},
   "source": [
    "## Experiment"
   ]
  },
  {
   "cell_type": "code",
   "execution_count": null,
   "id": "aed4b4c3",
   "metadata": {
    "scrolled": true
   },
   "outputs": [],
   "source": [
    "print(sid.polarity_scores('was the movie good?'))\n"
   ]
  },
  {
   "cell_type": "code",
   "execution_count": null,
   "id": "24e2d6aa",
   "metadata": {},
   "outputs": [],
   "source": [
    "exclamation = []\n",
    "\n",
    "def occ(ser):\n",
    "    update = False\n",
    "    if '!!!!!' in ser['review']:\n",
    "        ser['review'] = str(ser['review']).replace('!!!!!', '!!!')\n",
    "        update = True\n",
    "    if '!!!!' in ser['review']:\n",
    "        ser['review'] = str(ser['review']).replace('!!!!', '!!!')\n",
    "        update = True\n",
    "    return ser, update\n",
    "for index, row in df.iterrows():\n",
    "    row, up = occ(row)\n",
    "    exclamation.append(up)"
   ]
  },
  {
   "cell_type": "markdown",
   "id": "955335fb",
   "metadata": {},
   "source": [
    "## Improving Accuracy"
   ]
  },
  {
   "cell_type": "code",
   "execution_count": 158,
   "id": "23c8e00f",
   "metadata": {},
   "outputs": [],
   "source": [
    "def to_int(x):\n",
    "    if x[1] == 'positive':\n",
    "        return 1\n",
    "    return 0"
   ]
  },
  {
   "cell_type": "code",
   "execution_count": 159,
   "id": "b0a040ce",
   "metadata": {},
   "outputs": [
    {
     "data": {
      "text/plain": [
       "{'TP': 21532, 'TN': 13253, 'FP': 11747, 'FN': 3468}"
      ]
     },
     "execution_count": 159,
     "metadata": {},
     "output_type": "execute_result"
    }
   ],
   "source": [
    "conf_vals"
   ]
  },
  {
   "cell_type": "code",
   "execution_count": 160,
   "id": "87b35077",
   "metadata": {},
   "outputs": [],
   "source": [
    "cm = [[conf_vals['TN'], conf_vals['FP']],[conf_vals['FN'], conf_vals['TP']]]"
   ]
  },
  {
   "cell_type": "code",
   "execution_count": null,
   "id": "83685cbc",
   "metadata": {},
   "outputs": [],
   "source": [
    "clns = cleanhtml(conStr)"
   ]
  },
  {
   "cell_type": "code",
   "execution_count": 169,
   "id": "7c7c533d",
   "metadata": {},
   "outputs": [],
   "source": [
    "x = np.linspace(-1,1,1000)\n",
    "y = []\n",
    "for threshold in x:\n",
    "    df['comp_score'] = df['compound'].apply(lambda c: 'positive' if c >=threshold else 'negative')\n",
    "    df['Conf_Matrix'] = df.apply(lambda x: conf_matrix(x), axis=1)\n",
    "    conf_vals = df.Conf_Matrix.value_counts().to_dict()\n",
    "    if 'TP' not in conf_vals:\n",
    "        conf_vals['TP'] = 0\n",
    "    if 'FP' not in conf_vals:\n",
    "        conf_vals['FP'] = 0\n",
    "    if 'TN' not in conf_vals:\n",
    "        conf_vals['TN'] = 0\n",
    "    if 'FN' not in conf_vals:\n",
    "        conf_vals['FN'] = 0\n",
    "    accuracy = (conf_vals['TP'] + conf_vals['TN']) / (conf_vals['TP'] + conf_vals['TN'] + conf_vals['FP'] + conf_vals['FN'])\n",
    "    y.append(accuracy)"
   ]
  },
  {
   "cell_type": "code",
   "execution_count": 170,
   "id": "cb79c3f5",
   "metadata": {},
   "outputs": [
    {
     "data": {
      "image/png": "[encoded data removed]",
      "text/plain": [
       "<Figure size 640x480 with 1 Axes>"
      ]
     },
     "metadata": {},
     "output_type": "display_data"
    }
   ],
   "source": [
    "plt.scatter(x, y, s=0.5)\n",
    "plt.axvline(0.85, c='r')\n",
    "plt.show()"
   ]
  },
  {
   "cell_type": "code",
   "execution_count": 161,
   "id": "e0221c6a",
   "metadata": {
    "scrolled": false
   },
   "outputs": [
    {
     "data": {
      "text/html": [
       "<div>\n",
       "<style scoped>\n",
       "    .dataframe tbody tr th:only-of-type {\n",
       "        vertical-align: middle;\n",
       "    }\n",
       "\n",
       "    .dataframe tbody tr th {\n",
       "        vertical-align: top;\n",
       "    }\n",
       "\n",
       "    .dataframe thead th {\n",
       "        text-align: right;\n",
       "    }\n",
       "</style>\n",
       "<table border=\"1\" class=\"dataframe\">\n",
       "  <thead>\n",
       "    <tr style=\"text-align: right;\">\n",
       "      <th></th>\n",
       "      <th>review</th>\n",
       "      <th>sentiment</th>\n",
       "      <th>scores</th>\n",
       "      <th>compound</th>\n",
       "      <th>comp_score</th>\n",
       "      <th>Conf_Matrix</th>\n",
       "    </tr>\n",
       "  </thead>\n",
       "  <tbody>\n",
       "    <tr>\n",
       "      <th>0</th>\n",
       "      <td>One of the other reviewers has mentioned that ...</td>\n",
       "      <td>positive</td>\n",
       "      <td>{'neg': 0.179, 'neu': 0.756, 'pos': 0.064, 'co...</td>\n",
       "      <td>-0.9916</td>\n",
       "      <td>negative</td>\n",
       "      <td>FN</td>\n",
       "    </tr>\n",
       "    <tr>\n",
       "      <th>1</th>\n",
       "      <td>A wonderful little production. &lt;br /&gt;&lt;br /&gt;The...</td>\n",
       "      <td>positive</td>\n",
       "      <td>{'neg': 0.052, 'neu': 0.773, 'pos': 0.176, 'co...</td>\n",
       "      <td>0.9670</td>\n",
       "      <td>positive</td>\n",
       "      <td>TP</td>\n",
       "    </tr>\n",
       "    <tr>\n",
       "      <th>2</th>\n",
       "      <td>I thought this was a wonderful way to spend ti...</td>\n",
       "      <td>positive</td>\n",
       "      <td>{'neg': 0.114, 'neu': 0.688, 'pos': 0.198, 'co...</td>\n",
       "      <td>0.9519</td>\n",
       "      <td>positive</td>\n",
       "      <td>TP</td>\n",
       "    </tr>\n",
       "    <tr>\n",
       "      <th>3</th>\n",
       "      <td>Basically there's a family where a little boy ...</td>\n",
       "      <td>negative</td>\n",
       "      <td>{'neg': 0.125, 'neu': 0.816, 'pos': 0.059, 'co...</td>\n",
       "      <td>-0.9213</td>\n",
       "      <td>negative</td>\n",
       "      <td>TN</td>\n",
       "    </tr>\n",
       "    <tr>\n",
       "      <th>4</th>\n",
       "      <td>Petter Mattei's \"Love in the Time of Money\" is...</td>\n",
       "      <td>positive</td>\n",
       "      <td>{'neg': 0.05, 'neu': 0.806, 'pos': 0.144, 'com...</td>\n",
       "      <td>0.9744</td>\n",
       "      <td>positive</td>\n",
       "      <td>TP</td>\n",
       "    </tr>\n",
       "  </tbody>\n",
       "</table>\n",
       "</div>"
      ],
      "text/plain": [
       "                                              review sentiment  \\\n",
       "0  One of the other reviewers has mentioned that ...  positive   \n",
       "1  A wonderful little production. <br /><br />The...  positive   \n",
       "2  I thought this was a wonderful way to spend ti...  positive   \n",
       "3  Basically there's a family where a little boy ...  negative   \n",
       "4  Petter Mattei's \"Love in the Time of Money\" is...  positive   \n",
       "\n",
       "                                              scores  compound comp_score  \\\n",
       "0  {'neg': 0.179, 'neu': 0.756, 'pos': 0.064, 'co...   -0.9916   negative   \n",
       "1  {'neg': 0.052, 'neu': 0.773, 'pos': 0.176, 'co...    0.9670   positive   \n",
       "2  {'neg': 0.114, 'neu': 0.688, 'pos': 0.198, 'co...    0.9519   positive   \n",
       "3  {'neg': 0.125, 'neu': 0.816, 'pos': 0.059, 'co...   -0.9213   negative   \n",
       "4  {'neg': 0.05, 'neu': 0.806, 'pos': 0.144, 'com...    0.9744   positive   \n",
       "\n",
       "  Conf_Matrix  \n",
       "0          FN  \n",
       "1          TP  \n",
       "2          TP  \n",
       "3          TN  \n",
       "4          TP  "
      ]
     },
     "execution_count": 161,
     "metadata": {},
     "output_type": "execute_result"
    }
   ],
   "source": [
    "df['comp_score'] = df['compound'].apply(lambda c: 'positive' if c >=0.809 else 'negative')\n",
    "\n",
    "df.head()"
   ]
  },
  {
   "cell_type": "code",
   "execution_count": 162,
   "id": "db1015cc",
   "metadata": {
    "scrolled": true
   },
   "outputs": [],
   "source": [
    "def conf_matrix(x):\n",
    "    if x['sentiment'] == 'positive' and x['comp_score'] == 'positive':\n",
    "        return 'TP'\n",
    "    elif x['sentiment'] == 'positive' and x['comp_score'] == 'negative':\n",
    "        return 'FN'\n",
    "    elif x['sentiment'] == 'negative' and x['comp_score'] == 'positive':\n",
    "        return 'FP'\n",
    "    elif x['sentiment'] == 'negative' and x['comp_score'] == 'negative':\n",
    "        return 'TN'\n",
    "    else:\n",
    "        return 0\n",
    "\n",
    "df['Conf_Matrix'] = df.apply(lambda x: conf_matrix(x), axis=1)"
   ]
  },
  {
   "cell_type": "code",
   "execution_count": 163,
   "id": "db0d9c63",
   "metadata": {},
   "outputs": [
    {
     "name": "stdout",
     "output_type": "stream",
     "text": [
      "{'TP': 18513, 'TN': 17706, 'FP': 7294, 'FN': 6487}\n",
      "Accuracy:  72.44 % \n",
      "Precision:  71.74 % \n",
      "Recall:  74.05 % \n",
      "F1 Score:  72.88 %\n"
     ]
    }
   ],
   "source": [
    "conf_vals = df.Conf_Matrix.value_counts().to_dict()\n",
    "print(conf_vals)\n",
    "\n",
    "accuracy = (conf_vals['TP'] + conf_vals['TN']) / (conf_vals['TP'] + conf_vals['TN'] + conf_vals['FP'] + conf_vals['FN'])\n",
    "precision = conf_vals['TP'] / (conf_vals['TP'] + conf_vals['FP'])\n",
    "recall = conf_vals['TP'] / (conf_vals['TP'] + conf_vals['FN'])\n",
    "f1_score = 2*precision*recall / (precision + recall)\n",
    "print('Accuracy: ', round(100 * accuracy, 2),'%',\n",
    "      '\\nPrecision: ', round(100 * precision, 2),'%',\n",
    "      '\\nRecall: ', round(100 * recall, 2),'%',\n",
    "      '\\nF1 Score: ', round(100 * f1_score, 2),'%')"
   ]
  },
  {
   "cell_type": "code",
   "execution_count": 164,
   "id": "f796f40a",
   "metadata": {},
   "outputs": [],
   "source": [
    "def to_int(x):\n",
    "    if x[1] == 'positive':\n",
    "        return 1\n",
    "    return 0"
   ]
  },
  {
   "cell_type": "code",
   "execution_count": 165,
   "id": "27d4c6d8",
   "metadata": {},
   "outputs": [],
   "source": [
    "x = pd.DataFrame()\n",
    "x['actual'] = df.apply(lambda x: to_int(x), axis=1)\n",
    "x['predicted'] = df.apply(lambda x: to_int(x), axis=1)"
   ]
  },
  {
   "cell_type": "code",
   "execution_count": 166,
   "id": "1a789af9",
   "metadata": {},
   "outputs": [],
   "source": [
    "cm = [[conf_vals['TN'], conf_vals['FP']],[conf_vals['FN'], conf_vals['TP']]]"
   ]
  },
  {
   "cell_type": "code",
   "execution_count": 167,
   "id": "dfa618e7",
   "metadata": {
    "scrolled": false
   },
   "outputs": [
    {
     "data": {
      "image/png": "[encoded data removed]",
      "text/plain": [
       "<Figure size 640x480 with 1 Axes>"
      ]
     },
     "metadata": {},
     "output_type": "display_data"
    }
   ],
   "source": [
    "plt.clf()\n",
    "plt.imshow(cm, interpolation='nearest', cmap=plt.cm.RdYlGn, alpha=0.75)\n",
    "classNames = ['Negative','Positive']\n",
    "plt.title('Confusion Matrix')\n",
    "plt.ylabel('True label')\n",
    "plt.xlabel('Predicted label')\n",
    "tick_marks = np.arange(len(classNames))\n",
    "plt.xticks(tick_marks, classNames, rotation=45)\n",
    "plt.yticks(tick_marks, classNames)\n",
    "s = [['TN','FP'], ['FN', 'TP']]\n",
    "for i in range(2):\n",
    "    for j in range(2):\n",
    "        plt.text(j,i, str(s[i][j])+\" = \"+str(cm[i][j]))\n",
    "plt.show()"
   ]
  },
  {
   "cell_type": "markdown",
   "id": "84db614c",
   "metadata": {},
   "source": [
    "### Demo"
   ]
  },
  {
   "cell_type": "code",
   "execution_count": 174,
   "id": "492006bb",
   "metadata": {},
   "outputs": [
    {
     "data": {
      "text/plain": [
       "{'neg': 0.0, 'neu': 0.423, 'pos': 0.577, 'compound': 0.6249}"
      ]
     },
     "execution_count": 174,
     "metadata": {},
     "output_type": "execute_result"
    }
   ],
   "source": [
    "sid.polarity_scores(text = 'The movie was great')"
   ]
  }
 ],
 "metadata": {
  "kernelspec": {
   "display_name": "Python 3 (ipykernel)",
   "language": "python",
   "name": "python3"
  },
  "language_info": {
   "codemirror_mode": {
    "name": "ipython",
    "version": 3
   },
   "file_extension": ".py",
   "mimetype": "text/x-python",
   "name": "python",
   "nbconvert_exporter": "python",
   "pygments_lexer": "ipython3",
   "version": "3.10.8"
  },
  "vscode": {
   "interpreter": {
    "hash": "ab0ea9083850e61b03a735c82feb0a35d90ab0d190c1eac5b8994e47d4f118d9"
   }
  }
 },
 "nbformat": 4,
 "nbformat_minor": 5
}
